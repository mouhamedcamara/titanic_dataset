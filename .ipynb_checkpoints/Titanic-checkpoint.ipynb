{
 "cells": [
  {
   "cell_type": "code",
   "execution_count": 2,
   "metadata": {
    "id": "I6gnYP0tAraD"
   },
   "outputs": [],
   "source": [
    "import pandas as pd\n",
    "import numpy as np\n",
    "import seaborn as sns\n",
    "import matplotlib.pyplot as plt\n",
    "from sklearn.cluster import KMeans\n",
    "from sklearn.neighbors import KNeighborsClassifier\n",
    "\n",
    "from sklearn.model_selection import train_test_split, cross_val_score, validation_curve\n",
    "\n",
    "### Confusion Matrix ###\n",
    "\n",
    "from sklearn.metrics import confusion_matrix\n",
    "\n",
    "### Learning Curve ####\n",
    "from sklearn.model_selection import learning_curve\n",
    "\n",
    "### Le GridSearchCV ###\n",
    "\n",
    "from sklearn.model_selection import GridSearchCV\n",
    "\n",
    "%matplotlib inline\n"
   ]
  },
  {
   "cell_type": "code",
   "execution_count": null,
   "metadata": {
    "id": "8PRETMoFA5_q"
   },
   "outputs": [],
   "source": []
  },
  {
   "cell_type": "code",
   "execution_count": 3,
   "metadata": {
    "colab": {
     "base_uri": "https://localhost:8080/",
     "height": 112
    },
    "id": "Xl3wN8gGA6qa",
    "outputId": "3c851a70-6965-4864-e632-6cb58cf3fe60"
   },
   "outputs": [
    {
     "data": {
      "text/html": [
       "<div>\n",
       "<style scoped>\n",
       "    .dataframe tbody tr th:only-of-type {\n",
       "        vertical-align: middle;\n",
       "    }\n",
       "\n",
       "    .dataframe tbody tr th {\n",
       "        vertical-align: top;\n",
       "    }\n",
       "\n",
       "    .dataframe thead th {\n",
       "        text-align: right;\n",
       "    }\n",
       "</style>\n",
       "<table border=\"1\" class=\"dataframe\">\n",
       "  <thead>\n",
       "    <tr style=\"text-align: right;\">\n",
       "      <th></th>\n",
       "      <th>survived</th>\n",
       "      <th>pclass</th>\n",
       "      <th>sex</th>\n",
       "      <th>age</th>\n",
       "      <th>sibsp</th>\n",
       "      <th>parch</th>\n",
       "      <th>fare</th>\n",
       "      <th>embarked</th>\n",
       "      <th>class</th>\n",
       "      <th>who</th>\n",
       "      <th>adult_male</th>\n",
       "      <th>deck</th>\n",
       "      <th>embark_town</th>\n",
       "      <th>alive</th>\n",
       "      <th>alone</th>\n",
       "    </tr>\n",
       "  </thead>\n",
       "  <tbody>\n",
       "    <tr>\n",
       "      <th>0</th>\n",
       "      <td>0</td>\n",
       "      <td>3</td>\n",
       "      <td>male</td>\n",
       "      <td>22.0</td>\n",
       "      <td>1</td>\n",
       "      <td>0</td>\n",
       "      <td>7.2500</td>\n",
       "      <td>S</td>\n",
       "      <td>Third</td>\n",
       "      <td>man</td>\n",
       "      <td>True</td>\n",
       "      <td>NaN</td>\n",
       "      <td>Southampton</td>\n",
       "      <td>no</td>\n",
       "      <td>False</td>\n",
       "    </tr>\n",
       "    <tr>\n",
       "      <th>1</th>\n",
       "      <td>1</td>\n",
       "      <td>1</td>\n",
       "      <td>female</td>\n",
       "      <td>38.0</td>\n",
       "      <td>1</td>\n",
       "      <td>0</td>\n",
       "      <td>71.2833</td>\n",
       "      <td>C</td>\n",
       "      <td>First</td>\n",
       "      <td>woman</td>\n",
       "      <td>False</td>\n",
       "      <td>C</td>\n",
       "      <td>Cherbourg</td>\n",
       "      <td>yes</td>\n",
       "      <td>False</td>\n",
       "    </tr>\n",
       "  </tbody>\n",
       "</table>\n",
       "</div>"
      ],
      "text/plain": [
       "   survived  pclass     sex   age  sibsp  parch     fare embarked  class  \\\n",
       "0         0       3    male  22.0      1      0   7.2500        S  Third   \n",
       "1         1       1  female  38.0      1      0  71.2833        C  First   \n",
       "\n",
       "     who  adult_male deck  embark_town alive  alone  \n",
       "0    man        True  NaN  Southampton    no  False  \n",
       "1  woman       False    C    Cherbourg   yes  False  "
      ]
     },
     "execution_count": 3,
     "metadata": {},
     "output_type": "execute_result"
    }
   ],
   "source": [
    "# La Classification\n",
    "\n",
    "titanic = sns.load_dataset(\"titanic\")\n",
    "titanic.shape\n",
    "titanic.head(2)"
   ]
  },
  {
   "cell_type": "code",
   "execution_count": 4,
   "metadata": {
    "colab": {
     "base_uri": "https://localhost:8080/",
     "height": 112
    },
    "id": "oxXo5U_9BCwx",
    "outputId": "0fe1f459-c264-4a92-ae66-ef813c3526f5"
   },
   "outputs": [
    {
     "data": {
      "text/html": [
       "<div>\n",
       "<style scoped>\n",
       "    .dataframe tbody tr th:only-of-type {\n",
       "        vertical-align: middle;\n",
       "    }\n",
       "\n",
       "    .dataframe tbody tr th {\n",
       "        vertical-align: top;\n",
       "    }\n",
       "\n",
       "    .dataframe thead th {\n",
       "        text-align: right;\n",
       "    }\n",
       "</style>\n",
       "<table border=\"1\" class=\"dataframe\">\n",
       "  <thead>\n",
       "    <tr style=\"text-align: right;\">\n",
       "      <th></th>\n",
       "      <th>survived</th>\n",
       "      <th>pclass</th>\n",
       "      <th>sex</th>\n",
       "      <th>age</th>\n",
       "    </tr>\n",
       "  </thead>\n",
       "  <tbody>\n",
       "    <tr>\n",
       "      <th>0</th>\n",
       "      <td>0</td>\n",
       "      <td>3</td>\n",
       "      <td>0</td>\n",
       "      <td>22.0</td>\n",
       "    </tr>\n",
       "    <tr>\n",
       "      <th>1</th>\n",
       "      <td>1</td>\n",
       "      <td>1</td>\n",
       "      <td>1</td>\n",
       "      <td>38.0</td>\n",
       "    </tr>\n",
       "  </tbody>\n",
       "</table>\n",
       "</div>"
      ],
      "text/plain": [
       "   survived  pclass  sex   age\n",
       "0         0       3    0  22.0\n",
       "1         1       1    1  38.0"
      ]
     },
     "execution_count": 4,
     "metadata": {},
     "output_type": "execute_result"
    }
   ],
   "source": [
    "      # On filtre le dataset\n",
    "titanic = titanic[[\"survived\", \"pclass\", \"sex\", \"age\"]]\n",
    "titanic.dropna(axis=0, inplace=True)\n",
    "titanic[\"sex\"].replace([\"male\", \"female\"], [0, 1], inplace=True)\n",
    "titanic.head(2)"
   ]
  },
  {
   "cell_type": "code",
   "execution_count": 5,
   "metadata": {
    "id": "Vwd9aBZWG93s"
   },
   "outputs": [],
   "source": [
    "y = titanic[\"survived\"]\n",
    "X = titanic.drop(\"survived\", axis=1)"
   ]
  },
  {
   "cell_type": "code",
   "execution_count": 6,
   "metadata": {
    "id": "wmqTiwmkG-cb"
   },
   "outputs": [],
   "source": [
    "model = KNeighborsClassifier(n_neighbors=1)"
   ]
  },
  {
   "cell_type": "code",
   "execution_count": null,
   "metadata": {
    "id": "sF1lh3nsNZIT"
   },
   "outputs": [],
   "source": []
  },
  {
   "cell_type": "code",
   "execution_count": 7,
   "metadata": {
    "id": "o7E30xoGEuPb"
   },
   "outputs": [],
   "source": [
    "### Pour améliorer les performance de notre model, on allons:\n",
    "\n",
    "# 1) Créer un Train set et Test set. Entrainer puis Evaluer notre model\n",
    "# 2) Avec GridSearchCV, trouver les meilleurs hyper-parametres n_neighbors, metrics et weights\n",
    "# 3) Est-ce que collecter plus de données serait utile?"
   ]
  },
  {
   "cell_type": "code",
   "execution_count": 8,
   "metadata": {
    "colab": {
     "base_uri": "https://localhost:8080/"
    },
    "id": "zl1iz13xEuEz",
    "outputId": "c6b37098-b7db-473e-f278-71fd5b88a54c"
   },
   "outputs": [
    {
     "name": "stdout",
     "output_type": "stream",
     "text": [
      "Train set: (571, 3)\n",
      "Test set: (143, 3)\n"
     ]
    }
   ],
   "source": [
    "\n",
    "\n",
    "X_train, X_test, y_train, y_test = train_test_split(X, y, test_size=0.2, random_state=5)\n",
    "\n",
    "print(\"Train set:\", X_train.shape)\n",
    "print(\"Test set:\", X_test.shape)"
   ]
  },
  {
   "cell_type": "code",
   "execution_count": 9,
   "metadata": {
    "colab": {
     "base_uri": "https://localhost:8080/"
    },
    "id": "4h09x5H9Bond",
    "outputId": "e8937759-8519-42fa-8553-10856690b907"
   },
   "outputs": [
    {
     "name": "stdout",
     "output_type": "stream",
     "text": [
      "Train score: 0.8756567425569177\n",
      "Test score: 0.7972027972027972\n"
     ]
    }
   ],
   "source": [
    "model = KNeighborsClassifier(n_neighbors=1)\n",
    "model.fit(X_train, y_train)\n",
    "\n",
    "print(\"Train score:\", model.score(X_train, y_train))\n",
    "print(\"Test score:\", model.score(X_test, y_test)) #Performance future de notre model"
   ]
  },
  {
   "cell_type": "code",
   "execution_count": 10,
   "metadata": {
    "colab": {
     "base_uri": "https://localhost:8080/",
     "height": 317
    },
    "id": "6kqTHM14L3K9",
    "outputId": "6e7da550-612b-4dba-b49e-4aa223eb6797"
   },
   "outputs": [
    {
     "name": "stdout",
     "output_type": "stream",
     "text": [
      "9\n",
      "0.7601372997711671\n"
     ]
    },
    {
     "data": {
      "text/plain": [
       "[<matplotlib.lines.Line2D at 0x7ffdc58293d0>]"
      ]
     },
     "execution_count": 10,
     "metadata": {},
     "output_type": "execute_result"
    },
    {
     "data": {
      "image/png": "[encoded data removed]",
      "text/plain": [
       "<Figure size 432x288 with 1 Axes>"
      ]
     },
     "metadata": {
      "needs_background": "light"
     },
     "output_type": "display_data"
    }
   ],
   "source": [
    "# On cherche la valeur de neighbors où on obtient la meilleure performance avec Cross Validation\n",
    "\n",
    "val_score = []\n",
    "best_k = 1\n",
    "best_score = 0\n",
    "\n",
    "for k in range(1, 30):\n",
    "  score = cross_val_score(KNeighborsClassifier(k), X_train, y_train, cv=5, scoring=\"accuracy\").mean()\n",
    "  val_score.append(score)\n",
    "  \n",
    "  if best_score < score:\n",
    "    best_k = k\n",
    "    best_score = score\n",
    "\n",
    "print(best_k)\n",
    "print(best_score)\n",
    "plt.plot(val_score)"
   ]
  },
  {
   "cell_type": "code",
   "execution_count": 11,
   "metadata": {
    "colab": {
     "base_uri": "https://localhost:8080/",
     "height": 297
    },
    "id": "6PbvyaLFL4sZ",
    "outputId": "6d3ceacf-b284-4269-8a85-3f50378d8578"
   },
   "outputs": [
    {
     "name": "stderr",
     "output_type": "stream",
     "text": [
      "/opt/anaconda3/lib/python3.8/site-packages/sklearn/utils/validation.py:68: FutureWarning: Pass param_name=n_neighbors, param_range=[ 1  2  3  4  5  6  7  8  9 10 11 12 13 14 15 16 17 18 19 20 21 22 23 24\n",
      " 25 26 27 28 29] as keyword args. From version 0.25 passing these as positional arguments will result in an error\n",
      "  warnings.warn(\"Pass {} as keyword args. From version 0.25 \"\n"
     ]
    },
    {
     "data": {
      "text/plain": [
       "<matplotlib.legend.Legend at 0x7ffdc5546ca0>"
      ]
     },
     "execution_count": 11,
     "metadata": {},
     "output_type": "execute_result"
    },
    {
     "data": {
      "image/png": "[encoded data removed]",
      "text/plain": [
       "<Figure size 432x288 with 1 Axes>"
      ]
     },
     "metadata": {
      "needs_background": "light"
     },
     "output_type": "display_data"
    }
   ],
   "source": [
    "# Sklearn nous permet d'avoir les résultats précedents plus facilement avec Validation Curve\n",
    "\n",
    "k = np.arange(1, 30)\n",
    "\n",
    "train_score, validation_score = validation_curve(model, X_train, y_train,'n_neighbors', k, cv=5)\n",
    "\n",
    "    #On observe le resultat pour la validation et pour le train\n",
    "    \n",
    "plt.plot(k, validation_score.mean(axis=1), label=\"Validation\")\n",
    "plt.plot(k, train_score.mean(axis=1), label=\"Train\")\n",
    "\n",
    "plt.ylabel(\"Score\")\n",
    "plt.xlabel(\"n_neighbors\")\n",
    "plt.legend()"
   ]
  },
  {
   "cell_type": "code",
   "execution_count": 12,
   "metadata": {
    "colab": {
     "base_uri": "https://localhost:8080/"
    },
    "id": "zReU1MsvL4X_",
    "outputId": "5ce7eb7f-0a86-4663-f9cb-aa280d992449"
   },
   "outputs": [
    {
     "data": {
      "text/plain": [
       "GridSearchCV(cv=5, estimator=KNeighborsClassifier(),\n",
       "             param_grid={'metric': ['euclidean', 'manhattan'],\n",
       "                         'n_neighbors': array([ 1,  2,  3,  4,  5,  6,  7,  8,  9, 10, 11, 12, 13, 14, 15, 16, 17,\n",
       "       18, 19, 20, 21, 22, 23, 24, 25, 26, 27, 28, 29]),\n",
       "                         'weights': ['distance']})"
      ]
     },
     "execution_count": 12,
     "metadata": {},
     "output_type": "execute_result"
    }
   ],
   "source": [
    "#On utilise GridSearch\n",
    "\n",
    "param_grid = {\"n_neighbors\": np.arange(1, 30), \"metric\": [\"euclidean\", \"manhattan\"], \"weights\": [\"distance\"]}\n",
    "\n",
    "\n",
    "grid = GridSearchCV(KNeighborsClassifier(), param_grid, cv=5)\n",
    "grid.fit(X_train, y_train)"
   ]
  },
  {
   "cell_type": "code",
   "execution_count": 13,
   "metadata": {
    "colab": {
     "base_uri": "https://localhost:8080/"
    },
    "id": "OtT6CxbiL4IJ",
    "outputId": "18924636-25fd-4977-9056-65157710d89f"
   },
   "outputs": [
    {
     "data": {
      "text/plain": [
       "0.7828985507246375"
      ]
     },
     "execution_count": 13,
     "metadata": {},
     "output_type": "execute_result"
    }
   ],
   "source": [
    "grid.best_score_"
   ]
  },
  {
   "cell_type": "code",
   "execution_count": 14,
   "metadata": {
    "colab": {
     "base_uri": "https://localhost:8080/"
    },
    "id": "Fbd_aL-0NDAm",
    "outputId": "1a4a06c6-2825-438a-9c87-e72713988ce5"
   },
   "outputs": [
    {
     "data": {
      "text/plain": [
       "{'metric': 'manhattan', 'n_neighbors': 17, 'weights': 'distance'}"
      ]
     },
     "execution_count": 14,
     "metadata": {},
     "output_type": "execute_result"
    }
   ],
   "source": [
    "grid.best_params_"
   ]
  },
  {
   "cell_type": "code",
   "execution_count": 15,
   "metadata": {
    "colab": {
     "base_uri": "https://localhost:8080/"
    },
    "id": "j69Ds9tHNC5v",
    "outputId": "abb2458c-c6ad-4fa8-e67c-25c242d712c9"
   },
   "outputs": [
    {
     "data": {
      "text/plain": [
       "0.7832167832167832"
      ]
     },
     "execution_count": 15,
     "metadata": {},
     "output_type": "execute_result"
    }
   ],
   "source": [
    "#  Et ainsi on peut sauvegarder notre nouveau model (Plus performant)\n",
    "\n",
    "model = grid.best_estimator_\n",
    "  # Et on peut le sur nos données de test\n",
    "model.score(X_test, y_test)"
   ]
  },
  {
   "cell_type": "code",
   "execution_count": 16,
   "metadata": {
    "colab": {
     "base_uri": "https://localhost:8080/"
    },
    "id": "5OS-xQYBRk1k",
    "outputId": "ef80c792-2d0d-4def-e6ac-9b2dfb6c08a0"
   },
   "outputs": [
    {
     "data": {
      "text/plain": [
       "0.8949211908931699"
      ]
     },
     "execution_count": 16,
     "metadata": {},
     "output_type": "execute_result"
    }
   ],
   "source": [
    "model.score(X_train, y_train)"
   ]
  },
  {
   "cell_type": "code",
   "execution_count": 17,
   "metadata": {
    "colab": {
     "base_uri": "https://localhost:8080/"
    },
    "id": "6tqtfPwsNChQ",
    "outputId": "b574ed57-f2d8-44a9-ae88-9b3fe59c263c"
   },
   "outputs": [
    {
     "data": {
      "text/plain": [
       "array([[79,  9],\n",
       "       [22, 33]])"
      ]
     },
     "execution_count": 17,
     "metadata": {},
     "output_type": "execute_result"
    }
   ],
   "source": [
    "confusion_matrix(y_test, model.predict(X_test)) # On a les erreurs de la classification"
   ]
  },
  {
   "cell_type": "code",
   "execution_count": 18,
   "metadata": {
    "colab": {
     "base_uri": "https://localhost:8080/"
    },
    "id": "wOrMv01xNLcl",
    "outputId": "30eb2492-740c-45f4-e52f-a8f4c84d65b8"
   },
   "outputs": [
    {
     "name": "stdout",
     "output_type": "stream",
     "text": [
      "[ 45  91 136 182 228 273 319 364 410 456]\n",
      "[[1.         0.93333333 0.93333333 0.93333333 0.93333333]\n",
      " [0.96703297 0.94505495 0.94505495 0.94505495 0.94505495]\n",
      " [0.93382353 0.94852941 0.94117647 0.94117647 0.94117647]\n",
      " [0.92857143 0.93956044 0.93406593 0.93406593 0.93406593]\n",
      " [0.91666667 0.93859649 0.92982456 0.92982456 0.92982456]\n",
      " [0.92673993 0.92673993 0.93040293 0.91575092 0.91575092]\n",
      " [0.92789969 0.92163009 0.93103448 0.91222571 0.91222571]\n",
      " [0.92032967 0.91208791 0.91758242 0.91483516 0.91483516]\n",
      " [0.90731707 0.89756098 0.90243902 0.90243902 0.91219512]\n",
      " [0.91008772 0.90131579 0.90570175 0.90350877 0.90570175]]\n",
      "[[0.62608696 0.66666667 0.71929825 0.57017544 0.6754386 ]\n",
      " [0.74782609 0.71052632 0.66666667 0.62280702 0.64912281]\n",
      " [0.75652174 0.70175439 0.71929825 0.65789474 0.69298246]\n",
      " [0.73043478 0.70175439 0.74561404 0.68421053 0.69298246]\n",
      " [0.73913043 0.70175439 0.73684211 0.74561404 0.71052632]\n",
      " [0.73043478 0.77192982 0.73684211 0.75438596 0.76315789]\n",
      " [0.73043478 0.77192982 0.76315789 0.75438596 0.77192982]\n",
      " [0.74782609 0.78070175 0.73684211 0.74561404 0.78070175]\n",
      " [0.73913043 0.79824561 0.77192982 0.78947368 0.78947368]\n",
      " [0.74782609 0.79824561 0.77192982 0.80701754 0.77192982]]\n"
     ]
    }
   ],
   "source": [
    "N, train_score, val_score = learning_curve(model, X_train, y_train, train_sizes=np.linspace(0.1,1.0,10), cv=5)\n",
    "print(N)\n",
    "print(train_score)\n",
    "print(val_score)"
   ]
  },
  {
   "cell_type": "code",
   "execution_count": 19,
   "metadata": {
    "colab": {
     "base_uri": "https://localhost:8080/",
     "height": 297
    },
    "id": "JIIzZgrbNLZZ",
    "outputId": "956f392c-bed6-402f-edf4-080559183ffb"
   },
   "outputs": [
    {
     "data": {
      "text/plain": [
       "<matplotlib.legend.Legend at 0x7ffdc56093d0>"
      ]
     },
     "execution_count": 19,
     "metadata": {},
     "output_type": "execute_result"
    },
    {
     "data": {
      "image/png": "[encoded data removed]",
      "text/plain": [
       "<Figure size 432x288 with 1 Axes>"
      ]
     },
     "metadata": {
      "needs_background": "light"
     },
     "output_type": "display_data"
    }
   ],
   "source": [
    "plt.plot(N, train_score.mean(axis=1), label=\"Train\")\n",
    "plt.plot(N, val_score.mean(axis=1), label=\"Validation\")\n",
    "plt.xlabel(\"train_sizes\")\n",
    "plt.legend()"
   ]
  },
  {
   "cell_type": "code",
   "execution_count": 21,
   "metadata": {
    "colab": {
     "base_uri": "https://localhost:8080/"
    },
    "id": "M5jhEWE_NLML",
    "outputId": "601423f2-6591-40f4-c692-ddec975fcbf7"
   },
   "outputs": [
    {
     "name": "stdout",
     "output_type": "stream",
     "text": [
      "[0]\n",
      "[[1. 0.]]\n"
     ]
    }
   ],
   "source": [
    "### Et maintenant on peut faire des prediction ###\n",
    "\n",
    "# On détermine si oui ou non un passager aurait survécu\n",
    "\n",
    "def survie(model, pclass = 3, sex = 0, age = 23):\n",
    "  x = np.array([pclass, sex, age]).reshape(1, 3)\n",
    "  print(model.predict(x))\n",
    "  print(model.predict_proba(x)) #Prédit la proba qu'on appartienne à la classe 1 ou 0\n",
    "\n",
    "\n",
    "\n",
    "survie(model, 3, 0, 23)"
   ]
  },
  {
   "cell_type": "code",
   "execution_count": null,
   "metadata": {
    "id": "SFZ_zIgcOH69"
   },
   "outputs": [],
   "source": []
  },
  {
   "cell_type": "code",
   "execution_count": null,
   "metadata": {},
   "outputs": [],
   "source": []
  }
 ],
 "metadata": {
  "colab": {
   "name": "Titanic.ipynb",
   "provenance": []
  },
  "kernelspec": {
   "display_name": "Python 3",
   "language": "python",
   "name": "python3"
  },
  "language_info": {
   "codemirror_mode": {
    "name": "ipython",
    "version": 3
   },
   "file_extension": ".py",
   "mimetype": "text/x-python",
   "name": "python",
   "nbconvert_exporter": "python",
   "pygments_lexer": "ipython3",
   "version": "3.8.3"
  }
 },
 "nbformat": 4,
 "nbformat_minor": 1
}
